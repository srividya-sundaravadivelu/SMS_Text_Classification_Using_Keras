{
  "nbformat": 4,
  "nbformat_minor": 0,
  "metadata": {
    "colab": {
      "name": "SMS_Text_Classifier.ipynb",
      "private_outputs": true,
      "provenance": [],
      "authorship_tag": "ABX9TyPedEpabTC+3+rLKOGy7DKw",
      "include_colab_link": true
    },
    "kernelspec": {
      "name": "python3",
      "display_name": "Python 3"
    },
    "language_info": {
      "name": "python"
    }
  },
  "cells": [
    {
      "cell_type": "markdown",
      "metadata": {
        "id": "view-in-github",
        "colab_type": "text"
      },
      "source": [
        "<a href=\"https://colab.research.google.com/github/srividya-sundaravadivelu/SMS_Text_Classification_Using_Keras/blob/main/SMS_Text_Classifier.ipynb\" target=\"_parent\"><img src=\"https://colab.research.google.com/assets/colab-badge.svg\" alt=\"Open In Colab\"/></a>"
      ]
    },
    {
      "cell_type": "code",
      "execution_count": null,
      "metadata": {
        "id": "hHYpENEZkOAu"
      },
      "outputs": [],
      "source": [
        "import tensorflow as tf\n",
        "import pandas as pd\n",
        "from tensorflow import keras\n",
        "import tensorflow_datasets as tfds\n",
        "import numpy as np\n",
        "import matplotlib.pyplot as plt"
      ]
    },
    {
      "cell_type": "code",
      "source": [
        "# get data files\n",
        "!wget https://cdn.freecodecamp.org/project-data/sms/train-data.tsv\n",
        "!wget https://cdn.freecodecamp.org/project-data/sms/valid-data.tsv\n",
        "\n",
        "train_file_path = \"train-data.tsv\"\n",
        "test_file_path = \"valid-data.tsv\""
      ],
      "metadata": {
        "id": "BkkB5VOIkSwQ"
      },
      "execution_count": null,
      "outputs": []
    },
    {
      "cell_type": "code",
      "source": [
        "df_train = pd.read_csv(train_file_path,sep=\"\\t\",header=None)"
      ],
      "metadata": {
        "id": "-pzX1bMbkYGq"
      },
      "execution_count": null,
      "outputs": []
    },
    {
      "cell_type": "code",
      "source": [
        "df_train = df_train.rename(columns={0: 'HamOrSpam',1: 'Text'})\n",
        "df_train"
      ],
      "metadata": {
        "id": "iQiBI9TfkcnX"
      },
      "execution_count": null,
      "outputs": []
    },
    {
      "cell_type": "code",
      "source": [
        "df_test = pd.read_csv(test_file_path,sep=\"\\t\",header=None)\n",
        "df_test"
      ],
      "metadata": {
        "id": "2rQgUR2vkg-o"
      },
      "execution_count": null,
      "outputs": []
    },
    {
      "cell_type": "code",
      "source": [
        "df_test = df_test.rename(columns={0: 'HamOrSpam',1: 'Text'})\n",
        "df_test"
      ],
      "metadata": {
        "id": "x9zVQIa2klfC"
      },
      "execution_count": null,
      "outputs": []
    },
    {
      "cell_type": "code",
      "source": [
        "# Convert Categorical to numeric.\n",
        "from sklearn.preprocessing import LabelEncoder\n",
        "labelEncoder = LabelEncoder()\n",
        "df_train[\"HamOrSpam\"] = labelEncoder.fit_transform(df_train[\"HamOrSpam\"])\n",
        "df_test[\"HamOrSpam\"] = labelEncoder.fit_transform(df_test[\"HamOrSpam\"])"
      ],
      "metadata": {
        "id": "UXRAniKfkpdU"
      },
      "execution_count": null,
      "outputs": []
    },
    {
      "cell_type": "code",
      "source": [
        "df_train.head()"
      ],
      "metadata": {
        "id": "DrRSTpJ9kteQ"
      },
      "execution_count": null,
      "outputs": []
    },
    {
      "cell_type": "code",
      "source": [
        "df_test.head()"
      ],
      "metadata": {
        "id": "RE3hm0nJkxoN"
      },
      "execution_count": null,
      "outputs": []
    },
    {
      "cell_type": "code",
      "source": [
        "df_train.info()"
      ],
      "metadata": {
        "id": "JXDGjz8kk2vK"
      },
      "execution_count": null,
      "outputs": []
    },
    {
      "cell_type": "code",
      "source": [
        "df_test.info()"
      ],
      "metadata": {
        "id": "FRbhwUDPk4B-"
      },
      "execution_count": null,
      "outputs": []
    },
    {
      "cell_type": "code",
      "source": [
        "df_train[\"HamOrSpam\"].value_counts(normalize=True)"
      ],
      "metadata": {
        "id": "w_WF4Idlk7Tx"
      },
      "execution_count": null,
      "outputs": []
    },
    {
      "cell_type": "code",
      "source": [
        "X_train = df_train[\"Text\"]\n",
        "X_test = df_test[\"Text\"]\n",
        "y_train = df_train[\"HamOrSpam\"]\n",
        "y_test = df_test[\"HamOrSpam\"]"
      ],
      "metadata": {
        "id": "23z7_R_ik-mT"
      },
      "execution_count": null,
      "outputs": []
    },
    {
      "cell_type": "code",
      "source": [
        "print(X_train.head())\n",
        "print(X_test.head())\n",
        "print(y_train.head())\n",
        "print(y_test.head())"
      ],
      "metadata": {
        "id": "AOOyb-adkfDn"
      },
      "execution_count": null,
      "outputs": []
    },
    {
      "cell_type": "code",
      "source": [
        "X_train = np.array(X_train)"
      ],
      "metadata": {
        "id": "SiCsaqk_lLO2"
      },
      "execution_count": null,
      "outputs": []
    },
    {
      "cell_type": "code",
      "source": [
        "X_test = np.array(X_test)"
      ],
      "metadata": {
        "id": "ZVrIT9LDlP0a"
      },
      "execution_count": null,
      "outputs": []
    },
    {
      "cell_type": "code",
      "source": [
        "vectorize_layer = keras.layers.TextVectorization()\n",
        "vectorize_layer.adapt(X_train)"
      ],
      "metadata": {
        "id": "Smqxa9z6lUka"
      },
      "execution_count": null,
      "outputs": []
    },
    {
      "cell_type": "code",
      "source": [
        "vectorize_layer.get_vocabulary()"
      ],
      "metadata": {
        "id": "WNb_aO5VlXn9"
      },
      "execution_count": null,
      "outputs": []
    },
    {
      "cell_type": "code",
      "source": [
        "vocab_size = len(vectorize_layer.get_vocabulary())"
      ],
      "metadata": {
        "id": "J53MRJwelbJU"
      },
      "execution_count": null,
      "outputs": []
    },
    {
      "cell_type": "code",
      "source": [
        "model = tf.keras.Sequential([\n",
        "    vectorize_layer,\n",
        "    tf.keras.layers.Embedding(\n",
        "        input_dim=vocab_size,\n",
        "        output_dim=32,\n",
        "        mask_zero=True),\n",
        "    tf.keras.layers.LSTM(32),\n",
        "    tf.keras.layers.Dense(32, activation='relu'),\n",
        "    tf.keras.layers.Dense(1, activation='sigmoid')\n",
        "])"
      ],
      "metadata": {
        "id": "OIY7s6hWlcnd"
      },
      "execution_count": null,
      "outputs": []
    },
    {
      "cell_type": "code",
      "source": [
        "model.compile(optimizer=\"adam\",\n",
        "             loss = \"binary_crossentropy\",\n",
        "             metrics=['accuracy'])\n"
      ],
      "metadata": {
        "id": "e9UyjnTqlgjK"
      },
      "execution_count": null,
      "outputs": []
    },
    {
      "cell_type": "code",
      "source": [
        "model.summary()"
      ],
      "metadata": {
        "id": "BZ67j1d0lkb3"
      },
      "execution_count": null,
      "outputs": []
    },
    {
      "cell_type": "code",
      "source": [
        "# early stopping callback\n",
        "callback = tf.keras.callbacks.EarlyStopping(monitor='val_loss', \n",
        "                                  mode=\"min\", \n",
        "                                  patience=5,\n",
        "                                  restore_best_weights=True)"
      ],
      "metadata": {
        "id": "6kTaGrGPlsJR"
      },
      "execution_count": null,
      "outputs": []
    },
    {
      "cell_type": "code",
      "source": [
        "mdl_history = model.fit(X_train,\n",
        "         y_train,\n",
        "         epochs = 15,\n",
        "         validation_data = (X_test,y_test),\n",
        "         callbacks = [callback])"
      ],
      "metadata": {
        "id": "M4-NZuwqlthr"
      },
      "execution_count": null,
      "outputs": []
    },
    {
      "cell_type": "code",
      "source": [
        "pred_text = \"sale today! to stop texts call 98912460324\""
      ],
      "metadata": {
        "id": "VHHv6Ft7lyFZ"
      },
      "execution_count": null,
      "outputs": []
    },
    {
      "cell_type": "code",
      "source": [
        "np.array([pred_text])"
      ],
      "metadata": {
        "id": "wIxmkQX3l4OU"
      },
      "execution_count": null,
      "outputs": []
    },
    {
      "cell_type": "code",
      "source": [
        "result = model.predict(np.array([pred_text]))"
      ],
      "metadata": {
        "id": "MSV6PzHPl5-I"
      },
      "execution_count": null,
      "outputs": []
    },
    {
      "cell_type": "code",
      "source": [
        "result[0][0]"
      ],
      "metadata": {
        "id": "JZCUdM0Tl9Pt"
      },
      "execution_count": null,
      "outputs": []
    },
    {
      "cell_type": "code",
      "source": [
        "# function to predict messages based on model\n",
        "# (should return list containing prediction and label, ex. [0.008318834938108921, 'ham'])\n",
        "def predict_message(pred_text):\n",
        "  result = model.predict(np.array([pred_text]))\n",
        "  if (result[0][0] >= 0.5):\n",
        "    hamOrSpam = 'spam'\n",
        "  else:\n",
        "    hamOrSpam = 'ham'\n",
        "  prediction = [result[0][0],hamOrSpam]\n",
        "  return (prediction)\n",
        "\n",
        "pred_text = \"how are you doing today?\"\n",
        "\n",
        "prediction = predict_message(pred_text)\n",
        "print(prediction)"
      ],
      "metadata": {
        "id": "glzIu7tzmAQn"
      },
      "execution_count": null,
      "outputs": []
    },
    {
      "cell_type": "code",
      "source": [
        "# Run this cell to test your function and model. Do not modify contents.\n",
        "def test_predictions():\n",
        "  test_messages = [\"how are you doing today\",\n",
        "                   \"sale today! to stop texts call 98912460324\",\n",
        "                   \"i dont want to go. can we try it a different day? available sat\",\n",
        "                   \"our new mobile video service is live. just install on your phone to start watching.\",\n",
        "                   \"you have won £1000 cash! call to claim your prize.\",\n",
        "                   \"i'll bring it tomorrow. don't forget the milk.\",\n",
        "                   \"wow, is your arm alright. that happened to me one time too\"\n",
        "                  ]\n",
        "\n",
        "  test_answers = [\"ham\", \"spam\", \"ham\", \"spam\", \"spam\", \"ham\", \"ham\"]\n",
        "  passed = True\n",
        "\n",
        "  for msg, ans in zip(test_messages, test_answers):\n",
        "    prediction = predict_message(msg)\n",
        "    if prediction[1] != ans:  \n",
        "      passed = False\n",
        "\n",
        "  if passed:\n",
        "    print(\"You passed the challenge. Great job!\")\n",
        "  else:\n",
        "    print(\"You haven't passed yet. Keep trying.\")\n",
        "\n",
        "test_predictions()"
      ],
      "metadata": {
        "id": "bamz24mumGeY"
      },
      "execution_count": null,
      "outputs": []
    }
  ]
}